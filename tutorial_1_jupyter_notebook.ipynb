{
 "cells": [
  {
   "cell_type": "markdown",
   "metadata": {},
   "source": [
    "# Introduction to Jupyter notebooks"
   ]
  },
  {
   "cell_type": "markdown",
   "metadata": {},
   "source": [
    "The first thing we'll do, [discussed later](#Best-practices-for-code-cells), is import all the modules we'll need.  You should in general do this at the very beginning of each notebook, and in fact each `.py` file you write."
   ]
  },
  {
   "cell_type": "code",
   "execution_count": null,
   "metadata": {},
   "outputs": [],
   "source": [
    "# Import numerical packages\n",
    "import numpy as np\n",
    "import scipy.integrate\n",
    "\n",
    "# Import pyplot for plotting\n",
    "import matplotlib.pyplot as plt\n",
    "\n",
    "# Seaborn, useful for graphics\n",
    "import seaborn as sns\n",
    "\n",
    "# Magic function to make matplotlib inline; other style specs must come AFTER\n",
    "%matplotlib inline\n",
    "\n",
    "# This enables SVG graphics inline.  There is a bug, so uncomment if it works.\n",
    "#%config InlineBackend.figure_formats = {'svg',}\n",
    "\n",
    "# This enables high resolution PNGs. SVG is preferred, but has problems\n",
    "# rendering vertical and horizontal lines\n",
    "%config InlineBackend.figure_formats = {'png', 'retina'}\n",
    "\n",
    "# JB's favorite Seaborn settings for notebooks\n",
    "rc = {'lines.linewidth': 2, \n",
    "      'axes.labelsize': 18, \n",
    "      'axes.titlesize': 18, \n",
    "      'axes.facecolor': 'DFDFE5'}\n",
    "sns.set_context('notebook', rc=rc)\n",
    "sns.set_style('darkgrid', rc=rc)"
   ]
  },
  {
   "cell_type": "markdown",
   "metadata": {},
   "source": [
    "In this tutorial, you will learn the basics on how to use Jupyter notebooks.  Most of your homework will be submitted as Jupyter notebooks, so this is something you will need to master.  It will be useful for you to go over **Tutorial  2** to learn how to use $\\LaTeX$ to write mathematical notations and statements in your Jupyter notebooks. You should, of course, read [the official Jupyter documentation](http://jupyter-notebook.readthedocs.org/) as well."
   ]
  },
  {
   "cell_type": "markdown",
   "metadata": {},
   "source": [
    "## Contents\n",
    "* [What is Jupyter](#What-is-Jupyter?)\n",
    "* [Launching a Jupyter notebook](#Launching-a-Jupyter-notebook)\n",
    "* [Cells](#Cells)\n",
    "* [Code cells](#Code-cells)\n",
    "    - [Display of graphics](#Display-of-graphics)\n",
    "    - [Proper formatting of cells](#Proper-formatting-of-cells)\n",
    "    - [Best practices for code cells](#Best-practices-for-code-cells)\n",
    "* [Markdown cells](#Markdown-cells)\n",
    "* [Styling your notebook](#Styling-your-notebook)\n",
    "* [Collaborating with Google Drive](#Collaborating-with-Google-Drive)"
   ]
  },
  {
   "cell_type": "markdown",
   "metadata": {},
   "source": [
    "## What is Jupyter?\n",
    "[Jupyter](http://jupyter.org) is a way to combine text (with math!) and code (which runs and can display graphic output!) in an easy-to-read document that renders in a web browser.  The notebook itself is stored as a text file in [JSON](http://json.org) format.  This text file is what you will email the course instructor when submitting your homework.\n",
    "\n",
    "It is language agnostic as its name suggests.  The name \"Jupyter\" is a combination of [Julia](http://julialang.org/) (a new language for scientific computing), [Python](http://python.org/) (which you know and love, or at least will when the course is over), and [R](https://www.r-project.org) (the dominant tool for statistical computation).  However, you currently can run over 40 different languages in a Jupyter notebook, not just Julia, Python, and R."
   ]
  },
  {
   "cell_type": "markdown",
   "metadata": {},
   "source": [
    "## Launching a Jupyter notebook\n",
    "A Jupyter was spawned from the IPython project. To launch a Jupyter notebook, you can do the following.\n",
    "* **Mac**: Use the Anaconda launcher and select Jupyter notebook.\n",
    "* **Windows**: Under \"Search programs and files\" from the Start menu, type `jupyter notebook` and select \"Jupyter notebook.\"\n",
    "\n",
    "A Jupyter notebook will then launch in your default web browser.\n",
    "\n",
    "You can also launch Jupyter from the command line.  To do this, simply enter\n",
    "\n",
    "    jupyter notebook\n",
    "\n",
    "on the command line and hit enter.  This also allows for greater flexibility, as you can launch Jupyter with command line flags.  For example, I launch Jupyter using\n",
    "\n",
    "    jupyter notebook --browser=safari\n",
    "\n",
    "This fires up Jupyter with Safari as the browser.  If you launch Jupyter from the command line, your shell will be occupied with Jupyter and will occasionally print information to the screen.  After you are finished with your Jupyter session (and have saved everything), you can kill Jupyter by hitting \"`ctrl + C`\" in the terminal/PowerShell window.\n",
    "\n",
    "When you launch  Jupyter, you will be presented with a menu of files in your current working directory to choose to edit.  You can also navigate around the files on your computer to find a file you wish to edit by clicking the \"Upload\" button in the upper right corner.  You can also click \"New\" in the upper right corner to get a new Jupyter notebook.  After selecting the file you wish to edit, it will appear in a new window in your browser, beautifully formatted and ready to edit."
   ]
  },
  {
   "cell_type": "markdown",
   "metadata": {},
   "source": [
    "## Cells\n",
    "A Jupyter notebook consists of **cells**.  The two main types of cells you will use are **code cells** and **markdown cells**, and we will go into their properties in depth momentarily.  First, an overview.\n",
    "\n",
    "A code cell contains actual code that you want to run.  You can specify a cell as a code cell using the pulldown menu in the toolbar in your Jupyter notebook.  Otherwise, you can can hit `esc` and then `y` (denoted \"`esc, y`\") while a cell is selected to specify that it is a code cell.  Note that you will have to hit enter after doing this to start editing it.\n",
    "\n",
    "If you want to execute the code in a code cell, hit \"`shift + enter`.\"  Note that code cells are executed in the order you execute them.  That is to say, the ordering of the cells for which you hit \"`shift + enter`\" is the order in which the code is executed.  If you did not explicitly execute a cell early in the document, its results are now known to the Python interpreter.\n",
    "\n",
    "Markdown cells contain text.  The text is written in **markdown**, a lightweight markup language.  You can read about its syntax [here](http://daringfireball.net/projects/markdown/syntax).  Note that you can also insert HTML into markdown cells, and this will be rendered properly.  As you are typing the contents of these cells, the results appear as text.  Hitting \"`shift + enter`\" renders the text in the formatting you specify.\n",
    "\n",
    "You can specify a cell as being a markdown cell in the Jupyter toolbar, or by hitting \"`esc, m`\" in the cell.  Again, you have to hit enter after using the quick keys to bring the cell into edit mode.\n",
    "\n",
    "In general, when you want to add a new cell, you can use the \"Insert\" pulldown menu from the Jupyter toolbar.  The shortcut to insert a cell below is \"`esc, b`\" and to insert a cell above is \"`esc, a`.\"  Alternatively, you  can execute a cell and automatically add a new one below it by hitting \"`alt + enter`.\" There is another shot cut, \"`ctrl+enter`\", which execute a cell but not add a new line below.  "
   ]
  },
  {
   "cell_type": "markdown",
   "metadata": {},
   "source": [
    "## Code cells\n",
    "Below is an example of a code cell printing `hello, world.`  Notice that the output of the print statement appears in the same cell, though separate from the code block."
   ]
  },
  {
   "cell_type": "code",
   "execution_count": null,
   "metadata": {},
   "outputs": [],
   "source": [
    "# Say hello to the world.\n",
    "print('hello, world.')"
   ]
  },
  {
   "cell_type": "markdown",
   "metadata": {},
   "source": [
    "If you evaluate a Python expression that returns a value, that value is displayed as output of the code cell.  This only happens, however, for the last line of the code cell."
   ]
  },
  {
   "cell_type": "code",
   "execution_count": null,
   "metadata": {},
   "outputs": [],
   "source": [
    "# Would show 9 if this were the last line, but it is not, so shows nothing\n",
    "4 + 5\n",
    "\n",
    "# I hope we see 11.\n",
    "5 + 6"
   ]
  },
  {
   "cell_type": "markdown",
   "metadata": {},
   "source": [
    "Note, however, if the last line does not return a value, such as if we assigned a variable, there is no visible output from the code cell."
   ]
  },
  {
   "cell_type": "code",
   "execution_count": null,
   "metadata": {
    "collapsed": true
   },
   "outputs": [],
   "source": [
    "# Variable assignment, so no visible output.\n",
    "a = 5 + 6"
   ]
  },
  {
   "cell_type": "code",
   "execution_count": null,
   "metadata": {
    "collapsed": true
   },
   "outputs": [],
   "source": [
    "# However, now if we ask for a, its value will be displayed\n",
    "a"
   ]
  },
  {
   "cell_type": "markdown",
   "metadata": {},
   "source": [
    "## Output is asynchronous"
   ]
  },
  {
   "cell_type": "markdown",
   "metadata": {},
   "source": [
    "All output is displayed asynchronously as it is generated in the Kernel. If you execute the next cell, you will see the output one piece at a time, not all at the end."
   ]
  },
  {
   "cell_type": "code",
   "execution_count": null,
   "metadata": {
    "collapsed": true
   },
   "outputs": [],
   "source": [
    "import time, sys\n",
    "for i in range(8):\n",
    "    print(i)\n",
    "    time.sleep(0.5)"
   ]
  },
  {
   "cell_type": "markdown",
   "metadata": {},
   "source": [
    "## Large outputs"
   ]
  },
  {
   "cell_type": "markdown",
   "metadata": {},
   "source": [
    "To better handle large outputs, the output area can be collapsed. Run the following cell and then single- or double- click on the active area to the left of the output:"
   ]
  },
  {
   "cell_type": "code",
   "execution_count": null,
   "metadata": {
    "collapsed": true,
    "scrolled": true
   },
   "outputs": [],
   "source": [
    "for i in range(50):\n",
    "    print(i)"
   ]
  },
  {
   "cell_type": "markdown",
   "metadata": {},
   "source": [
    "Beyond a certain point, output will scroll automatically:"
   ]
  },
  {
   "cell_type": "code",
   "execution_count": null,
   "metadata": {
    "collapsed": true
   },
   "outputs": [],
   "source": [
    "for i in range(500):\n",
    "    print(2**i - 1)"
   ]
  },
  {
   "cell_type": "markdown",
   "metadata": {},
   "source": [
    "### Display of graphics\n",
    "When displaying graphics, you should have them **inline**, meaning that they are displayed directly in the Jupyter notebook and not in a separate window.  You can specify that, as I did at the top of this document, using the `%matplotlib inline` magic function.  Below is an example of graphics displayed inline.\n",
    "\n",
    "Generally, I prefer presenting graphics as scalable vector graphics (SVG).  Vector graphics are infinitely zoom-able; i.e., the graphics are represented as points, lines, curves, etc., in space, not as a set of pixel values as is the case with raster graphics (such as PNG).  By default, graphics are displayed as PNGs, but you can specify SVG as I have at the top of this document in the first code cell. \n",
    "\n",
    "    %config InlineBackend.figure_formats = {'svg',}\n",
    "\n",
    "Unfortunately, there seems to be a bug, at least when I render in Safari, where vertical and horizontal lines are not properly rendered when using SVG.  For some reason, when I select next cell and convert it to a code cell and back to markdown, the lines are then (sometimes) properly rendered.  This is annoying, but I tend to think it is worth it to have nice SVG graphics.  On the other hand, PNG graphics will usually suffice if you want to use them in your homework.  To specify the ONG graphics to be high resolution, include\n",
    "\n",
    "    %config InlineBackend.figure_formats = {'png', 'retina'}\n",
    "    \n",
    "at the top of your file, as we have here."
   ]
  },
  {
   "cell_type": "code",
   "execution_count": null,
   "metadata": {
    "collapsed": true
   },
   "outputs": [],
   "source": [
    "# Generate data to plot\n",
    "x = np.linspace(0, 2 * np.pi, 200)\n",
    "y = np.exp(np.sin(np.sin(x)))\n",
    "\n",
    "# Make plot\n",
    "plt.plot(x, y)\n",
    "plt.xlim((0, 2 * np.pi))\n",
    "plt.xlabel(r'$x$')\n",
    "plt.ylabel(r'$\\mathrm{e}^{\\sin{x}}$')"
   ]
  },
  {
   "cell_type": "markdown",
   "metadata": {},
   "source": [
    "The plot is included inline with the styling we specified using Seaborn at the beginning of the document. "
   ]
  },
  {
   "cell_type": "markdown",
   "metadata": {},
   "source": [
    "### Proper formatting of cells\n",
    "Generally, it is a good idea to keep cells simple.  You can define one function, or maybe two or three closely related functions, in a single cell, and that's about it.  When you define a function, you should make sure it is properly commented with descriptive doc strings.  Below is an example of how I might generate a plot of the Lorenz attractor (which I choose just because it is fun) with code cells and markdown cells with discussion of what I am doing."
   ]
  },
  {
   "cell_type": "markdown",
   "metadata": {},
   "source": [
    "We will use `scipy.integrate.odeint` to numerically integrate the Lorenz attractor.  We therefore first define a function that returns the right hand side of the system of ODEs that define the Lorentz attractor."
   ]
  },
  {
   "cell_type": "code",
   "execution_count": null,
   "metadata": {
    "collapsed": true
   },
   "outputs": [],
   "source": [
    "def lorenz_attractor(r, t, p):\n",
    "    \"\"\"\n",
    "    Compute the right hand side of system of ODEs for Lorenz attractor.\n",
    "    \n",
    "    Parameters\n",
    "    ----------\n",
    "    r : array_like, shape (3,)\n",
    "        (x, y, z) position of trajectory.\n",
    "    t : dummy_argument\n",
    "        Dummy argument, necessary to pass function into \n",
    "        scipy.integrate.odeint\n",
    "    p : array_like, shape (3,)\n",
    "        Parameters (s, k, b) for the attractor.\n",
    "        \n",
    "    Returns\n",
    "    -------\n",
    "    output : ndarray, shape (3,)\n",
    "        Time derivatives of Lorenz attractor.\n",
    "        \n",
    "    Notes\n",
    "    -----\n",
    "    .. Returns the right hand side of the system of ODEs describing\n",
    "       the Lorenz attractor.\n",
    "        x' = s * (y - x)\n",
    "        y' = x * (k - z) - y\n",
    "        z' = x * y - b * z\n",
    "    \"\"\"\n",
    "    # Unpack variables and parameters\n",
    "    x, y, z = r\n",
    "    s, p, b = p\n",
    "    \n",
    "    return np.array([s * (y - x), \n",
    "                     x * (p - z) - y, \n",
    "                     x * y - b * z])"
   ]
  },
  {
   "cell_type": "markdown",
   "metadata": {},
   "source": [
    "With this function in hand, we just have to pick our initial conditions and time points, run the numerical integration, and then plot the result."
   ]
  },
  {
   "cell_type": "code",
   "execution_count": null,
   "metadata": {
    "collapsed": true
   },
   "outputs": [],
   "source": [
    "# Parameters to use\n",
    "p = np.array([10.0, 28.0, 8.0 / 3.0])\n",
    "\n",
    "# Initial condition\n",
    "r0 = np.array([0.1, 0.0, 0.0])\n",
    "\n",
    "# Time points to sample\n",
    "t = np.linspace(0.0, 80.0, 10000)\n",
    "\n",
    "# Use scipy.integrate.odeint to integrate Lorentz attractor\n",
    "r = scipy.integrate.odeint(lorenz_attractor, r0, t, args=(p,))\n",
    "\n",
    "# Unpack results into x, y, z.\n",
    "x, y, z = r.transpose()\n",
    "\n",
    "# Plot the result\n",
    "plt.plot(x, z, '-', linewidth=0.5)\n",
    "plt.xlabel(r'$x(t)$', fontsize=18)\n",
    "plt.ylabel(r'$z(t)$', fontsize=18)\n",
    "plt.title(r'$x$-$z$ proj. of Lorenz attractor traj.')"
   ]
  },
  {
   "cell_type": "markdown",
   "metadata": {},
   "source": [
    "### Best practices for code cells\n",
    "Here is a summary of some general rules for composing and formatting your code cells.\n",
    "1. Do not exceed the width of the code cell.  If the cells are rendered with my CSS (as discussed below), that width is 80 characters.\n",
    "2. Keep your code cells short.  If you find yourself having one massive code cell, break it up.\n",
    "3. Always properly comment your code.  Provide complete doc strings for any functions you define.\n",
    "4. Do all of your imports in the first code cell at the top of the notebook.  With the exception of \"`from ... import ...`\" imports, import one module per line.\n",
    "5. For submitting assignments, **always** display your graphics inline.  You can render the graphics as PNGs if your browser starts experiencing performance issues, but SVG is preferred."
   ]
  },
  {
   "cell_type": "markdown",
   "metadata": {},
   "source": [
    "## Markdown cells\n",
    "Markdown cells contain text.  The text is written in **markdown**, a lightweight markup language.  The list of syntactical constructions at [this link](http://daringfireball.net/projects/markdown/syntax) are pretty much all you need to know for standard markdown.  Note that you can also insert HTML into markdown cells, and this will be rendered properly.  As you are typing the contents of these cells, the results appear as text.  Hitting \"`shift + enter`\" renders the text in the formatting you specify.\n",
    "\n",
    "You can specify a cell as being a markdown cell in the Jupyter tool bar, or by hitting \"`esc, m`\" in the cell.  Again, you have to hit enter after using the quick keys to bring the cell into edit mode.\n",
    "\n",
    "In addition to HTML, some $\\LaTeX$ expressions may be inserted into markdown cells.  $\\LaTeX$ (pronounced \"lay-tech\") is a document markup language that uses the $\\TeX$ typesetting software.  It is particularly well-suited for beautiful typesetting of mathematical expressions.  In Jupyter notebooks, the $\\LaTeX$  mathematical input is rendered using software called MathJax.  This is run off of a remote server, so if you are not connected to the internet, your equations will not be rendered.  You will use $\\LaTeX$ extensively in preparation of your assignments.  There are plenty of resources on the internet for getting started with $\\LaTeX$, but you will only need a tiny subset of its functionality in your assignments, and **Tutorial 0c**, plus cheat sheets you may find by Google (such as [this one](https://wch.github.io/latexsheet/latexsheet-a4.pdf)) are useful."
   ]
  },
  {
   "cell_type": "markdown",
   "metadata": {},
   "source": [
    "## Styling your notebook\n",
    "The default styles of Jupyter notebooks usually work just fine.  However, you may want to develope and use your own style, such as making bigger font sizzes or using different numbering style the code cells than default. For example, you can download a sample [CSS file](http://bebi103.caltech.edu/2015/downloads/custom.css) and the following to use the new style:\n",
    "\n",
    "1. On the command line, execute <br />\n",
    "        jupyter --config-dir \n",
    "2. Let's call the directory containing the Jupyter configuration `$JUPYTER_CONFIG_DIR` (this is actually the name of an environment variable Jupyter will look for).  Create a directory `$JUPYTER_CONFIG_DIR/custom/`.\n",
    "3. Copy the file you downloaded `custom.css` to the directory you just created.\n",
    "That's it!  \n",
    "\n",
    "Jupyter notebooks will now be styled with the sample CSS file.  If you are a bit more proficient with using the command line and you want to be able to also use the standard Jupyter notebook formatting, you can create a new config directory, such as `$HOME/.jupyter_custom`, copy the CSS file there, and then change the `JUPYTER_CONFIG_DIR` enviroment variable to that directory.  You then select which styling you want to use by changing the `JUPYTER_CONFIG_DIR` enviroment variable."
   ]
  },
  {
   "cell_type": "code",
   "execution_count": null,
   "metadata": {
    "collapsed": true
   },
   "outputs": [],
   "source": []
  }
 ],
 "metadata": {
  "anaconda-cloud": {},
  "kernelspec": {
   "display_name": "Python 3",
   "language": "python",
   "name": "python3"
  },
  "language_info": {
   "codemirror_mode": {
    "name": "ipython",
    "version": 3
   },
   "file_extension": ".py",
   "mimetype": "text/x-python",
   "name": "python",
   "nbconvert_exporter": "python",
   "pygments_lexer": "ipython3",
   "version": "3.5.5"
  }
 },
 "nbformat": 4,
 "nbformat_minor": 2
}
