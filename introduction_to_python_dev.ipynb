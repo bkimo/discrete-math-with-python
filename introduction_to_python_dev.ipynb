{
 "cells": [
  {
   "cell_type": "markdown",
   "id": "ba70e784-726e-4cf6-b040-274f49f9ab0e",
   "metadata": {},
   "source": [
    "## Introduction to Python\n",
    "\n",
    "**Opening Example**"
   ]
  },
  {
   "cell_type": "code",
   "execution_count": null,
   "id": "2f978467-a4a2-4f8b-b577-49e60f8bd35d",
   "metadata": {},
   "outputs": [],
   "source": [
    "# Example 1. A Simple Program\n",
    "\n",
    "age = 21                               # 'age' is a variable and contains 21, an integer.\n",
    "days = 365 * age                       # '*' is a multiplication. \n",
    "msg = \"You have lived this many days:\" # 'msg' is a variable containing a string.\n",
    "print(msg, days)                       "
   ]
  },
  {
   "cell_type": "markdown",
   "id": "5443c4c9-fcb3-4e10-89af-362f8f1b92f3",
   "metadata": {},
   "source": [
    "Program files can contain source code and comments. Comments are not instructions for the computer to follow, but instead notes for programmers to read. Comments in Python start with a pound sign (#). Anything following the pound sign that is on the same line as the pound sign will not be executed. Often, at the very beginning of a program, comments are used to indicate the author and other information. Comments are also used to explain tricky sections of code or disable code from executing."
   ]
  },
  {
   "cell_type": "markdown",
   "id": "408482e0-d99b-4d56-8f97-7243bf361489",
   "metadata": {},
   "source": [
    "### Data Types ###\n",
    "\n",
    "Four data types in Python are `int`, `flot`, `bool`, and `str`. \n",
    "\n",
    "<center>\n",
    "    <img src=\"./img/intro-py-fig1.png\" alt=\"datatypes\" class=\"bg-primary\" width=\"400px\">\n",
    "</center>\n",
    "\n",
    "**Remark.** Strings are always surrounded by quotation marks. Python allows either single (') or double (\") quotation marks. Some strings may look like numbers, but as long as they are surrounded by quotation marks, they are treated like text."
   ]
  },
  {
   "cell_type": "markdown",
   "id": "650a025c-3211-4c2c-9d93-bb4a287c6f66",
   "metadata": {},
   "source": [
    "#### Variables ####\n",
    "\n",
    "A variable has a name and a current value. Variables in Python can hold any type, and there is no need to declare them."
   ]
  },
  {
   "cell_type": "code",
   "execution_count": null,
   "id": "5f90c4e8-a713-4832-86d5-84be9c374d0f",
   "metadata": {},
   "outputs": [],
   "source": [
    "a = 5 # 'a' stores 4."
   ]
  },
  {
   "cell_type": "code",
   "execution_count": null,
   "id": "c0cd8ea3-864f-4ae6-8673-e81c6f3ee346",
   "metadata": {},
   "outputs": [],
   "source": [
    "type(a) # To determine what type of variable we created, use Python's type built in function."
   ]
  },
  {
   "cell_type": "code",
   "execution_count": null,
   "id": "a80dad91-8ea9-4613-9e65-a3aeaff8132b",
   "metadata": {},
   "outputs": [],
   "source": [
    "a  = 5.0 # Change the data type for 'a'."
   ]
  },
  {
   "cell_type": "code",
   "execution_count": null,
   "id": "2beae5ad-1832-4cd6-9529-946309c8acd1",
   "metadata": {},
   "outputs": [],
   "source": [
    "type(a)"
   ]
  },
  {
   "cell_type": "code",
   "execution_count": null,
   "id": "444e7513-39d1-41b0-9697-d07ad5eaf958",
   "metadata": {},
   "outputs": [],
   "source": [
    "a = int(2.5)  # Conver data type\n",
    "b = float(3)\n",
    "\n",
    "print(type(a), type(b))"
   ]
  },
  {
   "cell_type": "markdown",
   "id": "bf8c1437-0af7-4d56-be33-40e9c34f7a08",
   "metadata": {},
   "source": [
    "All the regular mathematical operators (+, -, \\*, \\*\\*) work as expected.  The only distinction worth making is between the division operator (/) and the integer division operator (//)."
   ]
  },
  {
   "cell_type": "code",
   "execution_count": null,
   "id": "46f9f6e0-06da-40b9-8669-4f35d542ff3d",
   "metadata": {},
   "outputs": [],
   "source": [
    "a = 3+5\n",
    "b = a * 2\n",
    "\n",
    "c = 10 // 2 # int division\n",
    "d = 11 // 2 # the quotient\n",
    "e = 11 % 2  # the remainder\n",
    "f = 10 / 3  # float division "
   ]
  },
  {
   "cell_type": "code",
   "execution_count": null,
   "id": "75b1725f-0002-4fce-a657-02cfb8349566",
   "metadata": {},
   "outputs": [],
   "source": [
    "print('a = ', a)\n",
    "print('b = ', b)\n",
    "print('c = ', c)\n",
    "print('d = ', d)\n",
    "print('e = ', e)\n",
    "print('f = ', f)"
   ]
  },
  {
   "cell_type": "markdown",
   "id": "50d43ddf-c01d-4fee-bc4b-a56b4fc6f872",
   "metadata": {},
   "source": [
    " **Example 2.** Boolean Operators and Expressions"
   ]
  },
  {
   "cell_type": "code",
   "execution_count": null,
   "id": "799a6064-66dd-40ed-b00e-34a70c43eceb",
   "metadata": {},
   "outputs": [],
   "source": [
    "a = True\n",
    "b = False\n",
    "\n",
    "# or is True if one variable is True\n",
    "c = True or False\n",
    "print(c)\n",
    "\n",
    "# and is True if both sides are true\n",
    "d = False and True\n",
    "print(d)\n",
    "\n",
    "# not negates the boolean\n",
    "e = not ((c and d) or True)\n",
    "print(e)"
   ]
  },
  {
   "cell_type": "code",
   "execution_count": null,
   "id": "0d9119f9-ff9d-4886-b982-01f6fbc355db",
   "metadata": {},
   "outputs": [],
   "source": [
    "x = 10\n",
    "f = (x>5)\n",
    "g = (x <= 12)\n",
    "h = (x == 9)\n",
    "i = (x != 10)"
   ]
  },
  {
   "cell_type": "code",
   "execution_count": null,
   "id": "c30fbeee-a2a7-4c90-85c6-516b620ebdd4",
   "metadata": {},
   "outputs": [],
   "source": [
    "print(f, g, h, i)"
   ]
  },
  {
   "cell_type": "markdown",
   "id": "4d47e2de-9a21-42ec-86e1-201d2fe7a681",
   "metadata": {},
   "source": [
    "#### Lists ####\n",
    "\n",
    "A list is an ordered set of values, where each value is identified by an index; Python lists are analogous to Java's `ArrayList` data structure.\n",
    "\n",
    "Let's create a few lists:"
   ]
  },
  {
   "cell_type": "code",
   "execution_count": null,
   "id": "13c5d543-8db2-44b5-a754-2e1caa2f5876",
   "metadata": {},
   "outputs": [],
   "source": [
    "vocabulary = [\"ameliorate\", \"castigate\", \"defenestrate\"]\n",
    "numbers = [17, 123]\n",
    "empty = []"
   ]
  },
  {
   "cell_type": "code",
   "execution_count": null,
   "id": "24cc5c5b-7d64-473d-8e35-005a64a7e41e",
   "metadata": {},
   "outputs": [],
   "source": [
    "vocabulary # To see the list"
   ]
  },
  {
   "cell_type": "markdown",
   "id": "72e96d5d-680c-4ee9-8a5f-16ef2652101a",
   "metadata": {
    "tags": []
   },
   "source": [
    "That last list we created is the empty list.\n",
    "You can ask a list for its length:"
   ]
  },
  {
   "cell_type": "code",
   "execution_count": null,
   "id": "1e34b104-809d-4324-b705-c76de0eeb54f",
   "metadata": {},
   "outputs": [],
   "source": [
    "len(numbers)"
   ]
  },
  {
   "cell_type": "markdown",
   "id": "42c3c1ae-2f68-4acc-b59a-f481c026ea6c",
   "metadata": {},
   "source": [
    "You can append an element to a list using its ```append``` method:"
   ]
  },
  {
   "cell_type": "code",
   "execution_count": null,
   "id": "6d6a6920-d389-42ec-b2e7-2e7eacac9482",
   "metadata": {},
   "outputs": [],
   "source": [
    "vocabulary = [\"ameliorate\", \"castigate\", \"defenestrate\"]\n",
    "vocabulary.append('your favorite word')\n",
    "\n",
    "print(vocabulary)"
   ]
  },
  {
   "cell_type": "markdown",
   "id": "0e07c906-82c4-4ca9-a222-207d51ad50d9",
   "metadata": {},
   "source": [
    "If you want to find out what a method does or other methods that an object has, use Python's help function:"
   ]
  },
  {
   "cell_type": "code",
   "execution_count": null,
   "id": "e9452377-2132-42d6-9ab7-d4278c49f849",
   "metadata": {},
   "outputs": [],
   "source": [
    "help(list.append)"
   ]
  },
  {
   "cell_type": "markdown",
   "id": "84a44f18-faba-4501-9153-7946e91787ea",
   "metadata": {},
   "source": [
    "####  List indexing\n",
    "\n",
    "Elements of a list are accessed using the bracket operator, and like in Java, indexing starts at 0.\n"
   ]
  },
  {
   "cell_type": "code",
   "execution_count": null,
   "id": "20baa3fa-99c2-4668-858e-9f0278eda199",
   "metadata": {
    "tags": []
   },
   "outputs": [],
   "source": [
    "numbers = [17, 123]\n",
    "numbers[0]"
   ]
  },
  {
   "cell_type": "code",
   "execution_count": null,
   "id": "054ee92f-0bf8-4303-a67f-f8b50ae89bf5",
   "metadata": {
    "tags": []
   },
   "outputs": [],
   "source": [
    "numbers[1]"
   ]
  },
  {
   "cell_type": "markdown",
   "id": "96b7e1ad-c3ba-47ff-a08c-24cc275eea95",
   "metadata": {
    "tags": []
   },
   "source": [
    "In Python an index can take a **negative** value.  Can you figure out what that does?"
   ]
  },
  {
   "cell_type": "code",
   "execution_count": null,
   "id": "96ba12a0-660a-4319-a745-effcfafa1c57",
   "metadata": {
    "tags": []
   },
   "outputs": [],
   "source": [
    "# write a snippet of code that accesses a list at indices with negative values\n",
    "#\n"
   ]
  },
  {
   "cell_type": "markdown",
   "id": "c3004c58-e64b-4992-8b2e-6d24b2db2e1c",
   "metadata": {},
   "source": [
    "#### Traversing a list\n",
    "\n",
    "It is common to iterate through the elements of a list using a `for` loop:"
   ]
  },
  {
   "cell_type": "code",
   "execution_count": null,
   "id": "5a5d7066-7622-4759-a9f5-3a49b219ca5f",
   "metadata": {
    "tags": []
   },
   "outputs": [],
   "source": [
    "words = [\"ameliorate\", \"castigate\", \"defenestrate\"]\n",
    "for word in words :\n",
    "    print(word)"
   ]
  },
  {
   "cell_type": "markdown",
   "id": "2ca59d3c-a9eb-4ff9-9a00-d684da934c50",
   "metadata": {},
   "source": [
    "Note the use of indentation to define a block.  Python does not use braces ({  }) the way Java and C do.  When using indentation you have to be consistent, and this is one aspect of Python that may take getting used to."
   ]
  },
  {
   "cell_type": "markdown",
   "id": "cb5d1ea1-63ca-42b1-88a5-19fec844121b",
   "metadata": {},
   "source": [
    "Another way to iterate over the elements of a list is using the `range` function:"
   ]
  },
  {
   "cell_type": "code",
   "execution_count": null,
   "id": "13c59713-8d5c-4366-b368-d751a448fb4d",
   "metadata": {
    "tags": []
   },
   "outputs": [],
   "source": [
    "words = [\"ameliorate\", \"castigate\", \"defenestrate\"]\n",
    "for i in range(len(words)) :\n",
    "    words[i] = words[i].upper()\n",
    "\n",
    "words"
   ]
  },
  {
   "cell_type": "markdown",
   "id": "bd71acf5-56d6-4b2f-9fb6-14d4f514208b",
   "metadata": {},
   "source": [
    "You can check that `range` indeed does what you expect:"
   ]
  },
  {
   "cell_type": "code",
   "execution_count": null,
   "id": "ad7c8163-2b8b-4b67-aaaa-9cc0163c1bdf",
   "metadata": {
    "tags": []
   },
   "outputs": [],
   "source": [
    "list(range(10))"
   ]
  },
  {
   "cell_type": "markdown",
   "id": "530b2680-65a7-4281-b29a-612c9dcda4c1",
   "metadata": {},
   "source": [
    "You might be curious why we needed to convert the range into a list.\n",
    "Well, the `range` function produces an object representing a sequence of numbers and the numbers are produced on demand. So to see them we make a list out of them."
   ]
  },
  {
   "cell_type": "markdown",
   "id": "5fb363e1-0404-414a-97fb-ed0d480a1119",
   "metadata": {},
   "source": [
    "## Exercises\n",
    "\n",
    "* Write a snippet of code that creates a list that contains all the even numbers that are less than a given number ```n```.  Hint:  the `range` function takes a stride argument as well.\n",
    "* Write a snippet of code that reverses a list (create a new list that contains the elements in reverse order).\n",
    "* **Slices** allow you to create sublists.  To familiarize yourselves with slices, create a list called `values` and try out the following commands:\n",
    "```python\n",
    "values[1:3]  \n",
    "values[2:-1] \n",
    "values[:2]   \n",
    "values[2:]   \n",
    "values[::2] # this last value is called the stride\n",
    "```\n",
    "Using slices you can also solve the second exercise using a single statement.  Hint:  negative strides.\n",
    "Slices also apply to strings much the same way they apply to lists - try it out!"
   ]
  },
  {
   "cell_type": "code",
   "execution_count": null,
   "id": "f81c8468-9a9b-40d4-a2e0-ec59f6581f22",
   "metadata": {
    "tags": []
   },
   "outputs": [],
   "source": [
    "# placeholder for first exercise"
   ]
  },
  {
   "cell_type": "code",
   "execution_count": null,
   "id": "9847172f-8257-4bbb-b012-f6127c92d289",
   "metadata": {
    "tags": []
   },
   "outputs": [],
   "source": [
    "# placeholder for second exercise"
   ]
  },
  {
   "cell_type": "code",
   "execution_count": null,
   "id": "4073c7e4-e26d-4895-8f8f-5a96e0f8a2f6",
   "metadata": {
    "tags": []
   },
   "outputs": [],
   "source": [
    "# placeholder for third exercise"
   ]
  },
  {
   "cell_type": "code",
   "execution_count": null,
   "id": "80bb2720-e5f8-4f1c-a57c-4e2130cc4968",
   "metadata": {},
   "outputs": [],
   "source": []
  }
 ],
 "metadata": {
  "kernelspec": {
   "display_name": "Python 3 (ipykernel)",
   "language": "python",
   "name": "python3"
  },
  "language_info": {
   "codemirror_mode": {
    "name": "ipython",
    "version": 3
   },
   "file_extension": ".py",
   "mimetype": "text/x-python",
   "name": "python",
   "nbconvert_exporter": "python",
   "pygments_lexer": "ipython3",
   "version": "3.11.5"
  }
 },
 "nbformat": 4,
 "nbformat_minor": 5
}
