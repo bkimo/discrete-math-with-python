{
 "cells": [
  {
   "cell_type": "markdown",
   "metadata": {},
   "source": [
    "## Algorithm Complexity: Array and Bubble Sort"
   ]
  },
  {
   "cell_type": "markdown",
   "metadata": {},
   "source": [
    "An **algorithm** is a list of instructions for doing something, and algorithm design is essential to computer science. Here we will study simple algorithms of sorting an array of numbers. \n",
    "\n",
    "An **array** is a sequence of variables $x_1, x_2, x_3, ..., x_n$; e.g., \n",
    "\n",
    "![](./Figures/an_array_example.png)\n",
    "\n",
    "Notice that the order of the elements in an array matters, and an array can have duplicate entries.\n",
    "\n",
    "A **sort** is an algorithm that guarantees that\n",
    "\t       $$ x_1\\leq  x_2\\leq  x_3\\leq \\cdots \\leq x_n $$\n",
    " after the algorithm finishes."
   ]
  },
  {
   "cell_type": "markdown",
   "metadata": {},
   "source": [
    "### Bubble sort\n",
    "\n",
    "Let $x_1, x_2, ..., x_n$ be an array whose elements can be compared by $\\leq $. The following algorithm is called a **bubble sort**.\n",
    "\n",
    "![](./Figures/bubble-sort-algorithm.png)\n",
    "\n",
    "The **bubble sort** makes multiple passes through an array. It compares adjacent items and exchanges those that are out of order. Each pass through the array places the next largest value in its proper place. In essence, each item “bubbles” up to the location where it belongs.\n",
    "\n",
    "Following figure  shows the first pass of a bubble sort. The shaded items are being compared to see if they are out of order. If there are $n$ items in the array, then there are $n−1$ pairs of items that need to be compared on the first pass. It is important to note that once the largest value in the array is part of a pair, it will continually be moved along until the pass is complete.\n",
    "\n",
    "![](./Figures/bubblepass.png)\n",
    "\n",
    "At the start of the second pass, the largest value is now in place. There are $n−1$ items left to sort, meaning that there will be $n−2$ pairs. Since each pass places the next largest value in place, the total number of passes necessary will be $n−1$. After completing the $n−1$, the smallest item must be in the correct position with no further processing required. \n",
    "\n",
    "The exchange operation, sometimes called a “swap” as in the algorithm, is slightly different in Python than in most other programming languages. Typically, swapping two elements in an array requires a temporary storage location (an additional memory location). A code fragment such as\n",
    "\n",
    "![](./Figures/swap.png)\n",
    "\n",
    "will exchange the $i$th and $j$th items in the array. Without the temporary storage, one of the values would be overwritten.\n",
    "\n",
    "In Python, it is possible to perform simultaneous assignment. The statement `a,b=b,a` will result in two assignment statements being done at the same time. Using simultaneous assignment, the exchange operation can be done in one statement.\n",
    "\n",
    "![](./Figures/swap-python.png)\n",
    "\n",
    "The following example shows the complete bubbleSort function working on the array shown above."
   ]
  },
  {
   "cell_type": "code",
   "execution_count": 1,
   "metadata": {},
   "outputs": [
    {
     "name": "stdout",
     "output_type": "stream",
     "text": [
      "[17, 20, 26, 31, 44, 54, 55, 77, 93]\n"
     ]
    }
   ],
   "source": [
    "def bubbleSort(alist):\n",
    "    for i in range(0, len(alist)-1):\n",
    "        for j in range(0, len(alist)-1-i):\n",
    "            if alist[j] > alist[j+1]:\n",
    "                alist[j], alist[j+1] = alist[j+1], alist[j] \n",
    "\n",
    "alist = [54,26,93,17,77,31,44,55,20]\n",
    "bubbleSort(alist)\n",
    "print(alist)"
   ]
  },
  {
   "cell_type": "markdown",
   "metadata": {},
   "source": [
    "To analyze the bubble sort, we should note that regardless of how the items are arranged in the initial array, $n−1$ passes will be made to sort an array of size n. Table below shows the number of comparisons for each pass. The total number of comparisons is the sum of the first $n−1$ integers. Recall that the sum of the first $n-1$ integers is $\\frac{n(n-1)}{2}$  This is still $\\mathcal{O}(n^2)$ comparisons. In the best case, if the list is already ordered, no exchanges will be made. However, in the worst case, every comparison will cause an exchange. On average, we exchange half of the time.\n",
    "\n",
    "![](./Figures/bubblepass-table.png)"
   ]
  },
  {
   "cell_type": "markdown",
   "metadata": {},
   "source": [
    "**Remark** A bubble sort is often considered the most inefficient sorting method since it must exchange items before the final location is known. These “wasted” exchange operations are very costly. However, because the bubble sort makes passes through the entire unsorted portion of the list, it has the capability to do something most sorting algorithms cannot. In particular, if during a pass there are no exchanges, then we know that the list must have been sorted already. A bubble sort can be modified to stop early if it finds that the list has become sorted. This means that for lists that require just a few passes, a bubble sort may have an advantage in that it will recognize the sorted list and stop. The following shows this modification, which is often referred to as the *short bubble*."
   ]
  },
  {
   "cell_type": "code",
   "execution_count": 2,
   "metadata": {},
   "outputs": [
    {
     "name": "stdout",
     "output_type": "stream",
     "text": [
      "[17, 20, 26, 31, 44, 54, 55, 77, 93]\n"
     ]
    }
   ],
   "source": [
    "def shortBubbleSort(alist):\n",
    "    exchanges = True\n",
    "    passnum = len(alist)-1\n",
    "    while passnum > 0 and exchanges:\n",
    "       exchanges = False\n",
    "       for i in range(passnum):\n",
    "#           print(i)\n",
    "           if alist[i]>alist[i+1]:\n",
    "               exchanges = True\n",
    "               alist[i], alist[i+1] = alist[i+1], alist[i]\n",
    "       passnum = passnum-1\n",
    "#       print('passnum = ', passnum)\n",
    "        \n",
    "alist = [54,26,93,17,77,31,44,55,20]\n",
    "#alist = [17, 20, 26, 31, 44, 54, 55, 77, 93]\n",
    "shortBubbleSort(alist)\n",
    "print(alist)"
   ]
  },
  {
   "cell_type": "markdown",
   "metadata": {},
   "source": [
    "### Plotting Algorithmic Time Complexity of a Function using Python"
   ]
  },
  {
   "cell_type": "markdown",
   "metadata": {},
   "source": [
    "We may take an idea of using the Python `Timer` and `timeit` methods to create a simple plotting scheme using `matplotlib`.\n",
    "\n",
    "Here is the code. The code is quite simple. Perhaps the only interesting thing here is the use of `partial` to pass in the function and the $N$ parameter into `Timer`. You can add in your own function here and plot the time complexity."
   ]
  },
  {
   "cell_type": "code",
   "execution_count": 3,
   "metadata": {},
   "outputs": [],
   "source": [
    "from matplotlib import pyplot\n",
    "import numpy as np\n",
    "import timeit\n",
    "from functools import partial\n",
    "import random"
   ]
  },
  {
   "cell_type": "code",
   "execution_count": 4,
   "metadata": {},
   "outputs": [],
   "source": [
    "def fconst(N):\n",
    "    \"\"\"\n",
    "    O(1) function\n",
    "    \"\"\"\n",
    "    x = 1\n",
    "\n",
    "def flinear(N):\n",
    "    \"\"\"\n",
    "    O(n) function\n",
    "    \"\"\"\n",
    "    x = [i for i in range(N)]\n",
    "\n",
    "def fsquare(N):\n",
    "    \"\"\"\n",
    "    O(n^2) function\n",
    "    \"\"\"\n",
    "    for i in range(N):\n",
    "        for j in range(N):\n",
    "            x = i*j\n",
    "\n",
    "def fshuffle(N):\n",
    "    # O(N)\n",
    "    random.shuffle(list(range(N)))\n",
    "\n",
    "def fsort(N):\n",
    "    x = list(range(N))\n",
    "    random.shuffle(x)\n",
    "    x.sort()\n",
    "    \n",
    "\n",
    "def plotTC(fn, nMin, nMax, nInc, nTests):\n",
    "    \"\"\"\n",
    "    Run timer and plot time complexity\n",
    "    \"\"\"\n",
    "    x = []\n",
    "    y = []\n",
    "    for i in range(nMin, nMax, nInc):\n",
    "        N = i\n",
    "        testNTimer = timeit.Timer(partial(fn, N))\n",
    "        t = testNTimer.timeit(number=nTests)\n",
    "        x.append(i)\n",
    "        y.append(t)\n",
    "    p1 = pyplot.plot(x, y, 'o')\n",
    "    #pyplot.legend([p1,], [fn.__name__, ])"
   ]
  },
  {
   "cell_type": "code",
   "execution_count": 8,
   "metadata": {},
   "outputs": [
    {
     "name": "stdout",
     "output_type": "stream",
     "text": [
      "Analyzing Algorithms...\n"
     ]
    },
    {
     "data": {
      "image/png": "[encoded data removed]",
      "text/plain": [
       "<Figure size 640x480 with 1 Axes>"
      ]
     },
     "metadata": {},
     "output_type": "display_data"
    }
   ],
   "source": [
    "# main() function\n",
    "def main():\n",
    "    print('Analyzing Algorithms...')\n",
    "\n",
    "    #plotTC(fconst, 10, 1000, 10, 10)\n",
    "    #plotTC(flinear, 10, 1000, 10, 10)\n",
    "    #plotTC(fsquare, 10, 1000, 10, 10)\n",
    "    #plotTC(fshuffle, 10, 1000, 1000, 10)\n",
    "    #plotTC(fsort, 10, 1000, 10, 10)\n",
    "    # enable this in case you want to set y axis limits\n",
    "    #pyplot.ylim((-0.1, 0.5))\n",
    "    \n",
    "    # show plot\n",
    "    pyplot.show()\n",
    "\n",
    "# call main\n",
    "if __name__ == '__main__':\n",
    "    main()"
   ]
  },
  {
   "cell_type": "markdown",
   "metadata": {},
   "source": [
    "### Exercises"
   ]
  },
  {
   "cell_type": "markdown",
   "metadata": {},
   "source": [
    "#1. [10 ps] Let $x_1, x_2, ..., x_n$ be an array whose elements can be compared by the total ordering $\\leq$. \n",
    "\n",
    "    (a) Write an algorithm for computing the maximum element in the array. \n",
    "    (b) How many \"<\" comparisons does your algorithm require?\n",
    "    (c) Write a python code based on your algorithm and test your assertion in (b) with   \n",
    "    examples of several arrays.\n",
    "  \n",
    "#2. [5 pts] Write a python code plotting algorithmic time complexity of the `bubbleSort` function. \n",
    "\n",
    "#3. [15 pts] The following is a pseudo code of **Insertion sort**, which is a simple sorting algorithm \n",
    "that builds the final sorted array one item at a time. Write a `insertionSort` in python and \n",
    "plot algorithmic time complexity of the `insertionSort` function.\n",
    "\n",
    "  ![](./Figures/insertion_sort.png)\n",
    "  \n",
    "\n",
    "#4. [10 pts] There are dataset in 2001 and 2002 in the United Arab Emirates that show the types of accidents and types of traffic accidents on Emirates ([http://www.bayanat.ae](http://www.bayanat.ae)). Use the bubble sort method (in Python) to rearrange the dataset as follows:\n",
    "\n",
    "    ST1. Sort alphabetically according to Emirates.\n",
    "    ST2. For the same Emirates, classify by accident type.\n",
    "    ST3. For incidents of the same type, sort by year in ascending order.\n",
    "    ST4. In the same year, sort the number of accidents in order.\n",
    "\n",
    "Write the python code. What can you tell about traffic accidents in Ras Al Khaimah?\n",
    "\n",
    "#5-1. [10 pts] There are dataset in 2003-2017 that show the mean temperature\n",
    "in the Emirates ([http://data.bayanat.ae/en_GB/dataset/mean-temperature-by-year-and-month ])  \n",
    "Use the bubble sort (or short bubble short) method to rearrange the dataset as follows:\n",
    "\n",
    "    ST1. Sort it by Year in ascending order (from 2003 to 2017). \n",
    "    ST2. For the same Year, sort it by Month in ascending order (from January to December).\n",
    "    ST3. Use the sorted result data to plot \"Month vs Mean Temp\"  graph for each year on the same window.\n",
    "\n",
    "Write the python code. What can you tell about the tendency of mean temperature in UAE? How do Mean Temperatures change over years?\n",
    "\n",
    "#5-2. [10 pts] There are dataset in 2003-2017 that show the Mean of Relative Humidity by Month & Year ( %)bin the Emirates ([http://data.bayanat.ae/dataset/mean-of-relative-humidity-by-year-and-month ]).  \n",
    "Use the bubble sort (or short bubble short) method to rearrange the dataset as follows:\n",
    "\n",
    "    ST1. Sort it by Year in ascending order (from 2003 to 2017). \n",
    "    ST2. For the same Year, sort it by Month in ascending order (from January to December).\n",
    "    ST3. Use the sorted result data to plot \"Month vs Mean Temp\"  graph for each year on the same window.\n",
    "\n",
    "Write the python code. What can you tell about the tendency of relative humidity in UAE? How do Relative Humidity change over years?\n",
    "\n",
    "#5-3. [10 pts] Compare the results of Problem 5-2 and 5-3 and discuss your observation. (If appropriate, you may write a python code (for analyzing or visualizing) to support your argument.)"
   ]
  },
  {
   "cell_type": "code",
   "execution_count": null,
   "metadata": {},
   "outputs": [],
   "source": []
  }
 ],
 "metadata": {
  "anaconda-cloud": {},
  "kernelspec": {
   "display_name": "Python 3 (ipykernel)",
   "language": "python",
   "name": "python3"
  },
  "language_info": {
   "codemirror_mode": {
    "name": "ipython",
    "version": 3
   },
   "file_extension": ".py",
   "mimetype": "text/x-python",
   "name": "python",
   "nbconvert_exporter": "python",
   "pygments_lexer": "ipython3",
   "version": "3.9.5"
  }
 },
 "nbformat": 4,
 "nbformat_minor": 4
}
